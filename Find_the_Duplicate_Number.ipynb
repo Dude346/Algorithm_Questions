{
 "metadata": {
  "language_info": {
   "codemirror_mode": {
    "name": "ipython",
    "version": 3
   },
   "file_extension": ".py",
   "mimetype": "text/x-python",
   "name": "python",
   "nbconvert_exporter": "python",
   "pygments_lexer": "ipython3",
   "version": "3.9.0-final"
  },
  "orig_nbformat": 2,
  "kernelspec": {
   "name": "python3",
   "display_name": "Python 3.9.0 64-bit",
   "metadata": {
    "interpreter": {
     "hash": "aee8b7b246df8f9039afb4144a1f6fd8d2ca17a180786b69acc140d282b71a49"
    }
   }
  }
 },
 "nbformat": 4,
 "nbformat_minor": 2,
 "cells": [
  {
   "source": [
    "# [LeetCode 287 Find the Duplicate Number](https://leetcode.com/problems/find-the-duplicate-number/)\n",
    "\n",
    "Given an array of integers nums containing n + 1 integers where each integer is in the range \\[1, n] inclusive.\n",
    "\n",
    "There is only one repeated number in nums, return this repeated number.\n",
    "\n",
    "You must solve the problem without modifying the array nums and uses only constant extra space.\n",
    "\n",
    "### Difficulty: Medium\n",
    "\n",
    "Constraints:\n",
    "- 1 <= n <= 10^5\n",
    "- nums.length == n + 1\n",
    "- 1 <= nums\\[i] <= n\n",
    "- All the integers in nums appear only once except for precisely one integer which appears two or more times.\n"
   ],
   "cell_type": "markdown",
   "metadata": {}
  },
  {
   "cell_type": "code",
   "execution_count": 6,
   "metadata": {},
   "outputs": [],
   "source": [
    "class Solution:\n",
    "    # If the range [1, n] is exhaustive\n",
    "    def findDuplicate(self, nums: list[int]) -> int:\n",
    "        n = len(nums) - 1\n",
    "        sum_of_n = (n * (n + 1)) // 2\n",
    "        return sum(nums) - sum_of_n"
   ]
  },
  {
   "cell_type": "code",
   "execution_count": 23,
   "metadata": {},
   "outputs": [],
   "source": [
    "class Solution:\n",
    "    # Brute Force, Time Limit Exceeded\n",
    "    def findDuplicate(self, nums: list[int]) -> int:\n",
    "        for i in range(len(nums)): \n",
    "            for j in range(i + 1, len(nums)):\n",
    "                if nums[i] == nums[j]:\n",
    "                    return nums[i] "
   ]
  },
  {
   "cell_type": "code",
   "execution_count": 34,
   "metadata": {},
   "outputs": [],
   "source": [
    "class Solution:\n",
    "    # Working O(nlog(n)) time complexity solution \n",
    "    def findDuplicate(self, nums: list[int]) -> int:\n",
    "        nums.sort()\n",
    "        for i, num in enumerate(nums): \n",
    "            if num == nums[i + 1]:\n",
    "                return num"
   ]
  },
  {
   "cell_type": "code",
   "execution_count": 44,
   "metadata": {},
   "outputs": [],
   "source": [
    "class Solution:\n",
    "    def findDuplicate(self, nums: list[int]) -> int:\n",
    "        for num in nums:\n",
    "            if nums[abs(num)] >= 0:\n",
    "                nums[abs(num)] = -nums[abs(num)]\n",
    "            else:\n",
    "                return abs(num)"
   ]
  },
  {
   "source": [
    "### Tests"
   ],
   "cell_type": "markdown",
   "metadata": {}
  },
  {
   "cell_type": "code",
   "execution_count": 43,
   "metadata": {},
   "outputs": [],
   "source": [
    "s = Solution()\n",
    "assert s.findDuplicate([1,3,4,2,2]) == 2\n",
    "assert s.findDuplicate([3,1,3,4,2]) == 3"
   ]
  },
  {
   "cell_type": "code",
   "execution_count": null,
   "metadata": {},
   "outputs": [],
   "source": []
  }
 ]
}