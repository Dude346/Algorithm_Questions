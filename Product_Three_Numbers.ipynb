{
 "metadata": {
  "language_info": {
   "codemirror_mode": {
    "name": "ipython",
    "version": 3
   },
   "file_extension": ".py",
   "mimetype": "text/x-python",
   "name": "python",
   "nbconvert_exporter": "python",
   "pygments_lexer": "ipython3",
   "version": "3.9.0-final"
  },
  "orig_nbformat": 2,
  "kernelspec": {
   "name": "python3",
   "display_name": "Python 3.9.0 64-bit",
   "metadata": {
    "interpreter": {
     "hash": "aee8b7b246df8f9039afb4144a1f6fd8d2ca17a180786b69acc140d282b71a49"
    }
   }
  }
 },
 "nbformat": 4,
 "nbformat_minor": 2,
 "cells": [
  {
   "source": [
    "# LeetCode 628 Maximum Product of Three Numbers \n",
    "\n",
    "https://leetcode.com/problems/maximum-product-of-three-numbers/\n",
    "\n",
    "Given an integer array nums, find three numbers whose product is maximum and return the maximum product.\n",
    "\n",
    "Constraints:\n",
    "- 3 <= nums.length <= 104\n",
    "- 1000 <= nums\\[i] <= 1000"
   ],
   "cell_type": "markdown",
   "metadata": {}
  },
  {
   "cell_type": "code",
   "execution_count": 2,
   "metadata": {},
   "outputs": [],
   "source": [
    "import numpy as np \n",
    "class Solution:\n",
    "    def maximumProduct(self, nums: list[int]) -> int:\n",
    "        pass \n",
    "                \n"
   ]
  },
  {
   "cell_type": "code",
   "execution_count": 8,
   "metadata": {},
   "outputs": [],
   "source": [
    "class Solution:\n",
    "    def maximumProduct(self, nums: list[int]) -> int:\n",
    "        d = {}\n",
    "\n",
    "        if len(nums) == 3:\n",
    "            return nums[0] * nums[1] * nums[2] \n",
    "\n",
    "        else:\n",
    "            max1 = max(nums)\n",
    "            nums.remove(max1) \n",
    "            max2 = max(nums) \n",
    "            nums.remove(max2)\n",
    "            max3 = max(nums)\n",
    "            min1 = min(nums)\n",
    "            nums.remove(min1)\n",
    "            min2 = min(nums) \n",
    "\n",
    "            if max1 * max2 * max3 > max1 * min1 * min2:\n",
    "                return max1 * max2 * max3\n",
    "\n",
    "            else:\n",
    "                return max1 * min1 * min2 \n",
    "\n",
    "\n",
    "\n",
    "        "
   ]
  },
  {
   "source": [
    "### Tests"
   ],
   "cell_type": "markdown",
   "metadata": {}
  },
  {
   "cell_type": "code",
   "execution_count": 10,
   "metadata": {},
   "outputs": [],
   "source": [
    "s = Solution()\n",
    "assert s.maximumProduct([1, 2, 3]) == 6\n",
    "assert s.maximumProduct([1, 2, 3, 4]) == 24\n",
    "assert s.maximumProduct([-1, -2, -3]) == -6"
   ]
  },
  {
   "cell_type": "code",
   "execution_count": null,
   "metadata": {},
   "outputs": [],
   "source": []
  }
 ]
}