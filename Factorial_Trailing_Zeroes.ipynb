{
 "metadata": {
  "language_info": {
   "codemirror_mode": {
    "name": "ipython",
    "version": 3
   },
   "file_extension": ".py",
   "mimetype": "text/x-python",
   "name": "python",
   "nbconvert_exporter": "python",
   "pygments_lexer": "ipython3",
   "version": "3.9.0-final"
  },
  "orig_nbformat": 2,
  "kernelspec": {
   "name": "python3",
   "display_name": "Python 3.9.0 64-bit",
   "metadata": {
    "interpreter": {
     "hash": "aee8b7b246df8f9039afb4144a1f6fd8d2ca17a180786b69acc140d282b71a49"
    }
   }
  }
 },
 "nbformat": 4,
 "nbformat_minor": 2,
 "cells": [
  {
   "source": [
    "# [LeetCode 172 Factorial Trailing Zeroes](https://leetcode.com/problems/factorial-trailing-zeroes/)\n",
    "\n",
    "Given an integer n, return the number of trailing zeroes in n!.\n",
    "\n",
    "Note that n! = n * (n - 1) * (n - 2) * ... * 3 * 2 * 1.\n",
    "\n",
    "Constraints:\n",
    "- 0 <= n <= 10^4\n"
   ],
   "cell_type": "markdown",
   "metadata": {}
  },
  {
   "cell_type": "code",
   "execution_count": 11,
   "metadata": {},
   "outputs": [],
   "source": [
    "class Solution:\n",
    "    def trailingZeroes(self, n: int) -> int:\n",
    "        if n == 0 or n == 1: \n",
    "            return 0\n",
    "        sum_total = 0 \n",
    "        for i in range(1, n): \n",
    "            if 5 ** i > n:\n",
    "                return sum_total \n",
    "            else:\n",
    "                sum_total += n // (5 ** i) "
   ]
  },
  {
   "source": [
    "### Tests"
   ],
   "cell_type": "markdown",
   "metadata": {}
  },
  {
   "cell_type": "code",
   "execution_count": 9,
   "metadata": {},
   "outputs": [],
   "source": [
    "s = Solution()\n",
    "assert s.trailingZeroes(3) == 0\n",
    "assert s.trailingZeroes(5) == 1\n",
    "assert s.trailingZeroes(0) == 0"
   ]
  },
  {
   "cell_type": "code",
   "execution_count": null,
   "metadata": {},
   "outputs": [],
   "source": []
  }
 ]
}