{
 "metadata": {
  "language_info": {
   "codemirror_mode": {
    "name": "ipython",
    "version": 3
   },
   "file_extension": ".py",
   "mimetype": "text/x-python",
   "name": "python",
   "nbconvert_exporter": "python",
   "pygments_lexer": "ipython3",
   "version": "3.9.0-final"
  },
  "orig_nbformat": 2,
  "kernelspec": {
   "name": "python3",
   "display_name": "Python 3.9.0 64-bit",
   "metadata": {
    "interpreter": {
     "hash": "aee8b7b246df8f9039afb4144a1f6fd8d2ca17a180786b69acc140d282b71a49"
    }
   }
  }
 },
 "nbformat": 4,
 "nbformat_minor": 2,
 "cells": [
  {
   "source": [
    "# LeetCode 326 Power Of Three\n",
    "\n",
    "https://leetcode.com/problems/power-of-three/\n",
    "\n",
    "Given an integer n, return true if it is a power of three. Otherwise, return false.\n",
    "\n",
    "An integer n is a power of three, if there exists an integer x such that n == 3x.\n",
    "\n",
    "### Constraints:\n",
    "\n",
    "* -2^31 <= n <= 2^31 - 1\n",
    "\n",
    "Follow up: Could you solve it without loops/recursion?"
   ],
   "cell_type": "markdown",
   "metadata": {}
  },
  {
   "cell_type": "code",
   "execution_count": 17,
   "metadata": {},
   "outputs": [],
   "source": [
    "import math\n",
    "class Solution:\n",
    "    def isPowerOfThree(self, n: int) -> bool:\n",
    "        if n == 0:\n",
    "            return False\n",
    "        if n == 1:\n",
    "            return True\n",
    "\n",
    "        while True:\n",
    "            if n % 3 != 0:\n",
    "                return False\n",
    "            else: \n",
    "                n /= 3 \n",
    "                if n == 1:\n",
    "                    return True \n",
    "\n",
    "    def isPowerOfThreeWithoutLoop(self, n: int) -> bool: \n",
    "        if n == 0:\n",
    "            return False\n",
    "\n",
    "        else:\n",
    "            x = math.log(n, 3) \n",
    "\n",
    "            if x == math.floor(x):\n",
    "                return True\n",
    "            else:\n",
    "                return False \n",
    "\n",
    "    def isPowerOfThreeWithoutLoop2(self, n: int) -> bool:\n",
    "        return n >= 1 and 3 ** 19 % n == 0 \n",
    "            "
   ]
  },
  {
   "source": [
    "### Tests"
   ],
   "cell_type": "markdown",
   "metadata": {}
  },
  {
   "cell_type": "code",
   "execution_count": 13,
   "metadata": {},
   "outputs": [],
   "source": [
    "s = Solution()\n",
    "assert s.isPowerOfThree(27)\n",
    "assert s.isPowerOfThree(9)\n",
    "assert not s.isPowerOfThree(0)\n",
    "assert not s.isPowerOfThree(45)"
   ]
  },
  {
   "source": [
    "### More Tests"
   ],
   "cell_type": "markdown",
   "metadata": {}
  },
  {
   "cell_type": "code",
   "execution_count": 18,
   "metadata": {},
   "outputs": [],
   "source": [
    "a = Solution()\n",
    "assert a.isPowerOfThreeWithoutLoop2(27)\n",
    "assert a.isPowerOfThreeWithoutLoop2(9)\n",
    "assert not a.isPowerOfThreeWithoutLoop2(0)\n",
    "assert not a.isPowerOfThreeWithoutLoop2(45)"
   ]
  },
  {
   "cell_type": "code",
   "execution_count": null,
   "metadata": {},
   "outputs": [],
   "source": []
  }
 ]
}