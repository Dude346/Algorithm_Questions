{
 "metadata": {
  "language_info": {
   "codemirror_mode": {
    "name": "ipython",
    "version": 3
   },
   "file_extension": ".py",
   "mimetype": "text/x-python",
   "name": "python",
   "nbconvert_exporter": "python",
   "pygments_lexer": "ipython3",
   "version": "3.9.0"
  },
  "orig_nbformat": 2,
  "kernelspec": {
   "name": "python3",
   "display_name": "Python 3.9.0 64-bit",
   "metadata": {
    "interpreter": {
     "hash": "aee8b7b246df8f9039afb4144a1f6fd8d2ca17a180786b69acc140d282b71a49"
    }
   }
  }
 },
 "nbformat": 4,
 "nbformat_minor": 2,
 "cells": [
  {
   "cell_type": "code",
   "execution_count": 11,
   "metadata": {},
   "outputs": [],
   "source": [
    "class MinStack:\n",
    "\n",
    "    def __init__(self):\n",
    "        self.stack = []\n",
    "        self.second_last = None\n",
    "        self.top = None\n",
    "        self.minvalue = None\n",
    "        self.prev_min = None \n",
    "        self.prev_stack = []\n",
    "\n",
    "    def push(self, val: int) -> None:\n",
    "        if self.stack == []: \n",
    "            self.stack = [val]\n",
    "            self.top = val\n",
    "            self.minvalue = val\n",
    "\n",
    "        else:\n",
    "            self.prev_stack = self.stack \n",
    "            self.stack += [val] #TODO implement this without += operator\n",
    "            self.second_last = self.top \n",
    "            self.top = val\n",
    "\n",
    "            if val <= self.minvalue:\n",
    "                self.prev_min = self.minvalue \n",
    "                self.minvalue = val \n",
    "\n",
    "\n",
    "    def pop(self) -> None: #TODO finish pop method \n",
    "        if self.stack == []:\n",
    "            print('nothing to pop')\n",
    "        \n",
    "        else:\n",
    "            self.top = self.second_last\n",
    "\n",
    "            if self.minvalue == self.top: \n",
    "                self.minvalue = self.prev_min \n",
    "\n",
    "            self.stack = self.prev_stack \n",
    "\n",
    "            \n",
    "    def top(self) -> int:\n",
    "        return self.top \n",
    " \n",
    "    def getMin(self) -> int:\n",
    "        return self.minvalue \n",
    "\n",
    "    def __repr__(self):\n",
    "        return f'{type(self).__name__}({self.stack})'\n"
   ]
  },
  {
   "cell_type": "code",
   "execution_count": 14,
   "metadata": {},
   "outputs": [
    {
     "output_type": "execute_result",
     "data": {
      "text/plain": [
       "MinStack([5, 3, 2])"
      ]
     },
     "metadata": {},
     "execution_count": 14
    }
   ],
   "source": [
    "a = MinStack()\n",
    "a.push(5)\n",
    "a.push(3)\n",
    "a.push(2)\n",
    "a"
   ]
  },
  {
   "cell_type": "code",
   "execution_count": 17,
   "metadata": {},
   "outputs": [
    {
     "output_type": "execute_result",
     "data": {
      "text/plain": [
       "MinStack([5, 3, 2])"
      ]
     },
     "metadata": {},
     "execution_count": 17
    }
   ],
   "source": [
    "a.pop()\n",
    "a"
   ]
  },
  {
   "cell_type": "code",
   "execution_count": null,
   "metadata": {},
   "outputs": [],
   "source": []
  }
 ]
}