{
 "metadata": {
  "language_info": {
   "codemirror_mode": {
    "name": "ipython",
    "version": 3
   },
   "file_extension": ".py",
   "mimetype": "text/x-python",
   "name": "python",
   "nbconvert_exporter": "python",
   "pygments_lexer": "ipython3",
   "version": "3.9.0-final"
  },
  "orig_nbformat": 2,
  "kernelspec": {
   "name": "python3",
   "display_name": "Python 3.9.0 64-bit",
   "metadata": {
    "interpreter": {
     "hash": "aee8b7b246df8f9039afb4144a1f6fd8d2ca17a180786b69acc140d282b71a49"
    }
   }
  }
 },
 "nbformat": 4,
 "nbformat_minor": 2,
 "cells": [
  {
   "source": [
    "# LeetCode 155 Min Stack\n",
    "\n",
    "https://leetcode.com/problems/min-stack/\n",
    "\n",
    "Design a stack that supports push, pop, top, and retrieving the minimum element in constant time.\n"
   ],
   "cell_type": "markdown",
   "metadata": {}
  },
  {
   "cell_type": "code",
   "execution_count": 1,
   "metadata": {},
   "outputs": [],
   "source": [
    "class MinStack:\n",
    "\n",
    "    def __init__(self):\n",
    "        self.stack = []\n",
    "        self.second_last = None\n",
    "        self.top_val = None\n",
    "        self.minvalue = None\n",
    "        self.prev_min = None \n",
    "        self.prev_stack = []\n",
    "\n",
    "    def push(self, val: int) -> None:\n",
    "        if self.stack == []: \n",
    "            self.stack = [val]\n",
    "            self.top_val = val\n",
    "            self.minvalue = val\n",
    "\n",
    "        else:\n",
    "            self.prev_stack = self.stack ######################\n",
    "            self.stack += [val] #TODO implement this without += operator\n",
    "            self.second_last = self.top_val\n",
    "            self.top_val = val\n",
    "\n",
    "            if val <= self.minvalue:\n",
    "                self.prev_min = self.minvalue \n",
    "                self.minvalue = val \n",
    "\n",
    "\n",
    "\n",
    "    def pop(self) -> None: #TODO finish pop method \n",
    "        if self.stack == []:\n",
    "            print('nothing to pop')\n",
    "        \n",
    "        else:\n",
    "            self.top_val = self.second_last\n",
    "\n",
    "            if self.minvalue == self.top_val: \n",
    "                self.minvalue = self.prev_min\n",
    "\n",
    "            #place_holder = self.stack[1:] \n",
    "            self.stack = self.stack[1:]\n",
    "\n",
    "            \n",
    "    def top(self) -> int:\n",
    "        return self.top_val\n",
    " \n",
    "    def getMin(self) -> int:\n",
    "        return self.minvalue \n",
    "\n",
    "    def __repr__(self):\n",
    "        return f'{type(self).__name__}({self.stack})'\n"
   ]
  },
  {
   "cell_type": "code",
   "execution_count": 2,
   "metadata": {},
   "outputs": [
    {
     "output_type": "execute_result",
     "data": {
      "text/plain": [
       "MinStack([5, 8, 9])"
      ]
     },
     "metadata": {},
     "execution_count": 2
    }
   ],
   "source": [
    "a = MinStack()\n",
    "a.push(5)\n",
    "a.push(8)\n",
    "a.push(9)\n",
    "a"
   ]
  },
  {
   "cell_type": "code",
   "execution_count": 3,
   "metadata": {},
   "outputs": [
    {
     "output_type": "execute_result",
     "data": {
      "text/plain": [
       "MinStack([8, 9])"
      ]
     },
     "metadata": {},
     "execution_count": 3
    }
   ],
   "source": [
    "a.pop()\n",
    "a"
   ]
  },
  {
   "cell_type": "code",
   "execution_count": 4,
   "metadata": {},
   "outputs": [
    {
     "output_type": "execute_result",
     "data": {
      "text/plain": [
       "8"
      ]
     },
     "metadata": {},
     "execution_count": 4
    }
   ],
   "source": [
    "a.top()"
   ]
  },
  {
   "cell_type": "code",
   "execution_count": 5,
   "metadata": {},
   "outputs": [
    {
     "output_type": "execute_result",
     "data": {
      "text/plain": [
       "5"
      ]
     },
     "metadata": {},
     "execution_count": 5
    }
   ],
   "source": [
    "a.getMin()"
   ]
  },
  {
   "cell_type": "code",
   "execution_count": null,
   "metadata": {},
   "outputs": [],
   "source": []
  }
 ]
}