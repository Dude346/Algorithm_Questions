{
 "metadata": {
  "language_info": {
   "codemirror_mode": {
    "name": "ipython",
    "version": 3
   },
   "file_extension": ".py",
   "mimetype": "text/x-python",
   "name": "python",
   "nbconvert_exporter": "python",
   "pygments_lexer": "ipython3",
   "version": "3.9.0-final"
  },
  "orig_nbformat": 2,
  "kernelspec": {
   "name": "python3",
   "display_name": "Python 3.9.0 64-bit",
   "metadata": {
    "interpreter": {
     "hash": "aee8b7b246df8f9039afb4144a1f6fd8d2ca17a180786b69acc140d282b71a49"
    }
   }
  }
 },
 "nbformat": 4,
 "nbformat_minor": 2,
 "cells": [
  {
   "source": [
    "# LeetCode 507 Perfect Number\n",
    "\n",
    "https://leetcode.com/problems/perfect-number/\n",
    "\n",
    "A perfect number is a positive integer that is equal to the sum of its positive divisors, excluding the number itself. A divisor of an integer x is an integer that can divide x evenly.\n",
    "\n",
    "Given an integer n, return true if n is a perfect number, otherwise \n",
    "return false.\n",
    "\n",
    "### Constraints:\n",
    "- 1 <= num <= 108"
   ],
   "cell_type": "markdown",
   "metadata": {}
  },
  {
   "cell_type": "code",
   "execution_count": 31,
   "metadata": {},
   "outputs": [],
   "source": [
    "import math\n",
    "class Solution:\n",
    "    def checkPerfectNumber(self, num: int) -> bool:\n",
    "        if num == 1:\n",
    "            return False\n",
    "        sqrt_n = math.floor(math.sqrt(num))  \n",
    "        list_of_factors = []\n",
    "\n",
    "        for f in range(1, sqrt_n+1): \n",
    "            if f == 1:\n",
    "                list_of_factors.append(1)\n",
    "            \n",
    "            else: \n",
    "                if num % f == 0:\n",
    "                    list_of_factors.extend([f, num/f])\n",
    "\n",
    "        if num == sum(list_of_factors):\n",
    "            return True\n",
    "\n",
    "        return False\n"
   ]
  },
  {
   "source": [
    "### Tests"
   ],
   "cell_type": "markdown",
   "metadata": {}
  },
  {
   "cell_type": "code",
   "execution_count": 29,
   "metadata": {},
   "outputs": [],
   "source": [
    "s = Solution()\n",
    "assert s.checkPerfectNumber(28)\n",
    "assert s.checkPerfectNumber(6)\n",
    "assert s.checkPerfectNumber(496)\n",
    "assert s.checkPerfectNumber(8128)\n",
    "assert not s.checkPerfectNumber(2)"
   ]
  },
  {
   "cell_type": "code",
   "execution_count": null,
   "metadata": {},
   "outputs": [],
   "source": []
  }
 ]
}