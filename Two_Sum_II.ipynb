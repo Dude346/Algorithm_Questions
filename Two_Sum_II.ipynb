{
 "metadata": {
  "language_info": {
   "codemirror_mode": {
    "name": "ipython",
    "version": 3
   },
   "file_extension": ".py",
   "mimetype": "text/x-python",
   "name": "python",
   "nbconvert_exporter": "python",
   "pygments_lexer": "ipython3",
   "version": "3.9.0-final"
  },
  "orig_nbformat": 2,
  "kernelspec": {
   "name": "python3",
   "display_name": "Python 3.9.0 64-bit",
   "metadata": {
    "interpreter": {
     "hash": "aee8b7b246df8f9039afb4144a1f6fd8d2ca17a180786b69acc140d282b71a49"
    }
   }
  }
 },
 "nbformat": 4,
 "nbformat_minor": 2,
 "cells": [
  {
   "source": [
    "# [LeetCode 167. Two Sum II - Input Array Is Sorted](https://leetcode.com/problems/two-sum-ii-input-array-is-sorted/)\n",
    "\n",
    "Given a 1-indexed array of integers numbers that is already sorted in non-decreasing order, find two numbers such that they add up to a specific target number. Let these two numbers be numbers\\[index1] and numbers\\[index2] where 1 <= index1 < index2 <= numbers.length.\n",
    "\n",
    "Return the indices of the two numbers, index1 and index2, added by one as an integer array \\[index1, index2] of length 2.\n",
    "\n",
    "The tests are generated such that there is exactly one solution. You may not use the same element twice.\n",
    "\n",
    "### Difficulty: Easy \n",
    "\n",
    "Constraints:\n",
    "* 2 <= numbers.length <= 3 * 104\n",
    "* -1000 <= numbers\\[i] <= 1000\n",
    "* numbers is sorted in non-decreasing order.\n",
    "* -1000 <= target <= 1000\n",
    "* The tests are generated such that there is exactly one solution."
   ],
   "cell_type": "markdown",
   "metadata": {}
  },
  {
   "cell_type": "code",
   "execution_count": 7,
   "metadata": {},
   "outputs": [],
   "source": [
    "class Solution:\n",
    "    def twoSum(self, numbers: list[int], target: int) -> list[int]:\n",
    "        i, j = 0, len(numbers) - 1\n",
    "\n",
    "        while i < j:\n",
    "            current_sum = numbers[i] + numbers[j] \n",
    "\n",
    "            if current_sum > target:\n",
    "                j -= 1\n",
    "            elif current_sum < target:\n",
    "                i += 1\n",
    "            else:\n",
    "                return [i + 1, j + 1]"
   ]
  },
  {
   "source": [
    "### Tests"
   ],
   "cell_type": "markdown",
   "metadata": {}
  },
  {
   "cell_type": "code",
   "execution_count": 9,
   "metadata": {},
   "outputs": [],
   "source": [
    "s = Solution()\n",
    "assert s.twoSum([2,7,11,15], 9) == [1,2]\n",
    "assert s.twoSum([2,3,4], 6) == [1, 3] \n",
    "assert s.twoSum([-1, 0], -1) == [1, 2]  "
   ]
  },
  {
   "cell_type": "code",
   "execution_count": null,
   "metadata": {},
   "outputs": [],
   "source": []
  }
 ]
}