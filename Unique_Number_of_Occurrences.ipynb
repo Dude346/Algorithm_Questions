{
 "metadata": {
  "language_info": {
   "codemirror_mode": {
    "name": "ipython",
    "version": 3
   },
   "file_extension": ".py",
   "mimetype": "text/x-python",
   "name": "python",
   "nbconvert_exporter": "python",
   "pygments_lexer": "ipython3",
   "version": "3.9.0-final"
  },
  "orig_nbformat": 2,
  "kernelspec": {
   "name": "python3",
   "display_name": "Python 3.9.0 64-bit",
   "metadata": {
    "interpreter": {
     "hash": "aee8b7b246df8f9039afb4144a1f6fd8d2ca17a180786b69acc140d282b71a49"
    }
   }
  }
 },
 "nbformat": 4,
 "nbformat_minor": 2,
 "cells": [
  {
   "source": [
    "# [LeetCode 1207 Unique Number of Occurrences](https://leetcode.com/problems/unique-number-of-occurrences/)\n",
    "\n",
    "Given an array of integers arr, return true if the number of occurrences of each value in the array is unique, or false otherwise.\n",
    "\n",
    "Constraints:\n",
    "* 1 <= arr.length <= 1000\n",
    "* -1000 <= arr\\[i] <= 1000"
   ],
   "cell_type": "markdown",
   "metadata": {}
  },
  {
   "cell_type": "code",
   "execution_count": 21,
   "metadata": {},
   "outputs": [],
   "source": [
    "class Solution:\n",
    "    def uniqueOccurrences(self, arr: list[int]) -> bool:\n",
    "        d = {}\n",
    "\n",
    "        for i in arr: \n",
    "            if i not in d:\n",
    "                d[i] = 1 \n",
    "            else:\n",
    "                d[i] += 1 \n",
    "\n",
    "        s = set(d.values())\n",
    "\n",
    "        return len(s) == len(d.values())\n"
   ]
  },
  {
   "source": [
    "### Tests"
   ],
   "cell_type": "markdown",
   "metadata": {}
  },
  {
   "cell_type": "code",
   "execution_count": 22,
   "metadata": {},
   "outputs": [],
   "source": [
    "s = Solution()\n",
    "assert s.uniqueOccurrences([1,2,2,1,1,3])\n",
    "assert not s.uniqueOccurrences([1, 2])\n",
    "assert s.uniqueOccurrences([-3,0,1,-3,1,1,1,-3,10,0]) "
   ]
  },
  {
   "cell_type": "code",
   "execution_count": null,
   "metadata": {},
   "outputs": [],
   "source": []
  }
 ]
}