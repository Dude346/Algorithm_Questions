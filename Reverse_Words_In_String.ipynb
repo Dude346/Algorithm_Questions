{
 "metadata": {
  "language_info": {
   "codemirror_mode": {
    "name": "ipython",
    "version": 3
   },
   "file_extension": ".py",
   "mimetype": "text/x-python",
   "name": "python",
   "nbconvert_exporter": "python",
   "pygments_lexer": "ipython3",
   "version": "3.9.0"
  },
  "orig_nbformat": 2,
  "kernelspec": {
   "name": "python3",
   "display_name": "Python 3.9.0 64-bit",
   "metadata": {
    "interpreter": {
     "hash": "aee8b7b246df8f9039afb4144a1f6fd8d2ca17a180786b69acc140d282b71a49"
    }
   }
  }
 },
 "nbformat": 4,
 "nbformat_minor": 2,
 "cells": [
  {
   "source": [
    "# LeetCode 151: Reverse Words in a String\n",
    "\n",
    "https://leetcode.com/problems/reverse-words-in-a-string/\n",
    "\n",
    "Given an input string s, reverse the order of the words.\n"
   ],
   "cell_type": "markdown",
   "metadata": {}
  },
  {
   "cell_type": "code",
   "execution_count": 70,
   "metadata": {},
   "outputs": [],
   "source": [
    "class Solution:\n",
    "    def reverseWords(self, s: str) -> str:\n",
    "        l = s.split() \n",
    "        rev_l = []\n",
    "        for i in range(len(l)):\n",
    "            if i == 0:\n",
    "                pass\n",
    "            else:\n",
    "                rev_l.append(l[-i]) \n",
    "\n",
    "        try: \n",
    "            rev_l.append(l[0]) \n",
    "    \n",
    "        except IndexError:\n",
    "            return ''\n",
    "\n",
    "        return ' '.join(rev_l)\n"
   ]
  }
 ]
}