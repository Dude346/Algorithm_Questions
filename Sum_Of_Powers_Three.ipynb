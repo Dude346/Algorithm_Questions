{
 "metadata": {
  "language_info": {
   "codemirror_mode": {
    "name": "ipython",
    "version": 3
   },
   "file_extension": ".py",
   "mimetype": "text/x-python",
   "name": "python",
   "nbconvert_exporter": "python",
   "pygments_lexer": "ipython3",
   "version": "3.9.0-final"
  },
  "orig_nbformat": 2,
  "kernelspec": {
   "name": "python3",
   "display_name": "Python 3.9.0 64-bit",
   "metadata": {
    "interpreter": {
     "hash": "aee8b7b246df8f9039afb4144a1f6fd8d2ca17a180786b69acc140d282b71a49"
    }
   }
  }
 },
 "nbformat": 4,
 "nbformat_minor": 2,
 "cells": [
  {
   "source": [
    "# LeetCode 1780 Check if Number is a Sum of Powers of Three\n",
    "\n",
    "https://leetcode.com/problems/check-if-number-is-a-sum-of-powers-of-three/\n",
    "\n",
    "Given an integer n, return true if it is possible to represent n as the sum of distinct powers of three. Otherwise, return false.\n",
    "\n",
    "An integer y is a power of three if there exists an integer x such that y == 3x.\n",
    "\n",
    "### Constraints:\n",
    "- 1 <= n <= 107"
   ],
   "cell_type": "markdown",
   "metadata": {}
  },
  {
   "cell_type": "code",
   "execution_count": 24,
   "metadata": {},
   "outputs": [],
   "source": [
    "class Solution:\n",
    "    def checkPowersOfThree(self, n: int) -> bool:\n",
    "        list_of_powers_three = self.listPowersThree(n)\n",
    "        sum_of_powers = 0 \n",
    "\n",
    "        for i in range(1, len(list_of_powers_three)+1):\n",
    "            if list_of_powers_three[-i] + sum_of_powers > n:\n",
    "                continue\n",
    "            sum_of_powers += list_of_powers_three[-i]\n",
    "            if sum_of_powers == n:\n",
    "                return True \n",
    "\n",
    "        return False \n",
    "\n",
    "\n",
    "    def listPowersThree(self, n): \n",
    "        list_of_powers_three = []\n",
    "        val = 1\n",
    "        while True:\n",
    "            if val <= n:\n",
    "                list_of_powers_three.append(val)\n",
    "            else:\n",
    "                break\n",
    "            val*=3\n",
    "        return list_of_powers_three\n",
    "            "
   ]
  },
  {
   "source": [
    "### Tests"
   ],
   "cell_type": "markdown",
   "metadata": {}
  },
  {
   "cell_type": "code",
   "execution_count": 23,
   "metadata": {},
   "outputs": [],
   "source": [
    "s = Solution()\n",
    "assert s.checkPowersOfThree(12)\n",
    "assert s.checkPowersOfThree(91)\n",
    "assert not s.checkPowersOfThree(22)\n",
    "assert s.checkPowersOfThree(84)"
   ]
  },
  {
   "cell_type": "code",
   "execution_count": null,
   "metadata": {},
   "outputs": [],
   "source": []
  }
 ]
}