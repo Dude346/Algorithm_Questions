{
 "metadata": {
  "language_info": {
   "codemirror_mode": {
    "name": "ipython",
    "version": 3
   },
   "file_extension": ".py",
   "mimetype": "text/x-python",
   "name": "python",
   "nbconvert_exporter": "python",
   "pygments_lexer": "ipython3",
   "version": "3.9.0-final"
  },
  "orig_nbformat": 2,
  "kernelspec": {
   "name": "python3",
   "display_name": "Python 3.9.0 64-bit",
   "metadata": {
    "interpreter": {
     "hash": "aee8b7b246df8f9039afb4144a1f6fd8d2ca17a180786b69acc140d282b71a49"
    }
   }
  }
 },
 "nbformat": 4,
 "nbformat_minor": 2,
 "cells": [
  {
   "source": [
    "# LeetCode 728 Self Dividing Numbers\n",
    "\n",
    "https://leetcode.com/problems/self-dividing-numbers/\n",
    "\n",
    "A self-dividing number is a number that is divisible by every digit it contains.\n",
    "\n",
    "For example, 128 is a self-dividing number because 128 % 1 == 0, 128 % 2 == 0, and 128 % 8 == 0.\n",
    "A self-dividing number is not allowed to contain the digit zero.\n",
    "\n",
    "Given two integers left and right, return a list of all the self-dividing numbers in the range [left, right].\n",
    "\n",
    "\n",
    "Constraints:\n",
    "- 1 <= left <= right <= 10^4"
   ],
   "cell_type": "markdown",
   "metadata": {}
  },
  {
   "cell_type": "code",
   "execution_count": 53,
   "metadata": {},
   "outputs": [],
   "source": [
    "class Solution:\n",
    "    def selfDividingNumbers(self, left: int, right: int) -> list[int]:\n",
    "        l = []\n",
    "        i = 0\n",
    "        num = left \n",
    "\n",
    "        for num in range(left, right+1):\n",
    "            string_num = str(num)\n",
    "            \n",
    "            for i in range(len(string_num)):\n",
    "                try:\n",
    "                    if num % int(string_num[i]) != 0:\n",
    "                        break \n",
    "\n",
    "                except ZeroDivisionError: \n",
    "                    break \n",
    "                \n",
    "                l.append(num)\n",
    "\n",
    "        return l \n",
    "\n"
   ]
  },
  {
   "cell_type": "code",
   "execution_count": 72,
   "metadata": {},
   "outputs": [],
   "source": [
    "class Solution:\n",
    "    def selfDividingNumbers(self, left: int, right: int) -> list[int]:\n",
    "        l = []\n",
    "\n",
    "        for num in range(left, right+1): \n",
    "            a = True \n",
    "            list_of_digits = list(str(num)) \n",
    "\n",
    "            for d in list_of_digits:\n",
    "                if '0' in list_of_digits:\n",
    "                    a = False  \n",
    "                    break \n",
    "                elif num % int(d) != 0:\n",
    "                    a = False \n",
    "                    break \n",
    "\n",
    "            if a == True: \n",
    "                l.append(num) \n",
    "\n",
    "        return l\n",
    "\n"
   ]
  },
  {
   "source": [
    "### Tests"
   ],
   "cell_type": "markdown",
   "metadata": {}
  },
  {
   "cell_type": "code",
   "execution_count": 73,
   "metadata": {},
   "outputs": [],
   "source": [
    "s = Solution()\n",
    "assert s.selfDividingNumbers(left = 1, right = 22) == [1,2,3,4,5,6,7,8,9,11,12,15,22]\n",
    "assert s.selfDividingNumbers(left = 47, right = 85) == [48,55,66,77] "
   ]
  }
 ]
}