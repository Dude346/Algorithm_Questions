{
 "metadata": {
  "language_info": {
   "codemirror_mode": {
    "name": "ipython",
    "version": 3
   },
   "file_extension": ".py",
   "mimetype": "text/x-python",
   "name": "python",
   "nbconvert_exporter": "python",
   "pygments_lexer": "ipython3",
   "version": "3.9.0-final"
  },
  "orig_nbformat": 2,
  "kernelspec": {
   "name": "python3",
   "display_name": "Python 3.9.0 64-bit",
   "metadata": {
    "interpreter": {
     "hash": "aee8b7b246df8f9039afb4144a1f6fd8d2ca17a180786b69acc140d282b71a49"
    }
   }
  }
 },
 "nbformat": 4,
 "nbformat_minor": 2,
 "cells": [
  {
   "source": [
    "# LeetCode 121 Best Time to Buy and Sell Stock\n",
    "\n",
    "[Stock Buy and Sell Problem](https://leetcode.com/problems/best-time-to-buy-and-sell-stock/)\n",
    "\n",
    "You are given an array prices where prices\\[i] is the price of a given stock on the ith day.\n",
    "\n",
    "You want to maximize your profit by choosing a single day to buy one stock and choosing a different day in the future to sell that stock.\n",
    "\n",
    "Return the maximum profit you can achieve from this transaction. If you cannot achieve any profit, return 0.\n",
    "\n",
    "Constraints:\n",
    "\n",
    "- 1 <= prices.length <= 105\n",
    "- 0 <= prices\\[i] <= 104"
   ],
   "cell_type": "markdown",
   "metadata": {}
  },
  {
   "cell_type": "code",
   "execution_count": 1,
   "metadata": {},
   "outputs": [],
   "source": [
    "class Solution:\n",
    "    def maxProfit(self, prices: list[int]) -> int:\n",
    "        i, j = 0, 1\n",
    "        max_profit = 0\n",
    "\n",
    "        while j < len(prices): \n",
    "            if prices[i] < prices[j]: \n",
    "                if prices[j] - prices[i] > max_profit:\n",
    "                    max_profit = prices[j] - prices[i] \n",
    "\n",
    "            else:\n",
    "                i = j \n",
    "            j += 1\n",
    "\n",
    "        return max_profit\n",
    "\n",
    "            \n"
   ]
  },
  {
   "source": [
    "### Tests"
   ],
   "cell_type": "markdown",
   "metadata": {}
  },
  {
   "cell_type": "code",
   "execution_count": 2,
   "metadata": {},
   "outputs": [],
   "source": [
    "s = Solution()\n",
    "assert s.maxProfit([7,1,5,3,6,4]) == 5\n",
    "assert s.maxProfit([7,6,4,3,1]) == 0"
   ]
  },
  {
   "cell_type": "code",
   "execution_count": null,
   "metadata": {},
   "outputs": [],
   "source": []
  }
 ]
}