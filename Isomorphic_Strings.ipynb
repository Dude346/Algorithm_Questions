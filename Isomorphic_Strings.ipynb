{
 "metadata": {
  "language_info": {
   "codemirror_mode": {
    "name": "ipython",
    "version": 3
   },
   "file_extension": ".py",
   "mimetype": "text/x-python",
   "name": "python",
   "nbconvert_exporter": "python",
   "pygments_lexer": "ipython3",
   "version": "3.9.0-final"
  },
  "orig_nbformat": 2,
  "kernelspec": {
   "name": "python3",
   "display_name": "Python 3.9.0 64-bit",
   "metadata": {
    "interpreter": {
     "hash": "aee8b7b246df8f9039afb4144a1f6fd8d2ca17a180786b69acc140d282b71a49"
    }
   }
  }
 },
 "nbformat": 4,
 "nbformat_minor": 2,
 "cells": [
  {
   "source": [
    "# LeetCode 205\n",
    "\n",
    "https://leetcode.com/problems/isomorphic-strings/\n",
    "\n",
    "Given two strings s and t, determine if they are isomorphic. \n",
    "\n",
    "Two strings s and t are isomorphic if the characters in s can be replaced to get t. All occurrences of a character must be replaced with another character while preserving the order of characters. No two characters may map to the same character, but a character may map to itself.\n",
    "\n",
    "## Constraints:\n",
    "\n",
    "- 1 <= s.length <= 5 * 104\n",
    "- t.length == s.length\n",
    "- s and t consist of any valid ascii character."
   ],
   "cell_type": "markdown",
   "metadata": {}
  },
  {
   "cell_type": "code",
   "execution_count": 7,
   "metadata": {},
   "outputs": [],
   "source": [
    "class Solution:\n",
    "    def isIsomorphic(self, s: str, t: str) -> bool:\n",
    "        dict_s_t = {}\n",
    "        dict_t_s = {}\n",
    "\n",
    "        for i in range(len(s)): \n",
    "            s_c = s[i]\n",
    "            t_c = t[i]\n",
    "\n",
    "            if (s_c in dict_s_t and dict_s_t[s_c] != t_c) or (t_c in dict_t_s and dict_t_s[t_c] != s_c):\n",
    "                return False \n",
    "            \n",
    "            dict_s_t[s_c] = t_c\n",
    "            dict_t_s[t_c] = s_c\n",
    "\n",
    "        return True"
   ]
  },
  {
   "source": [
    "### Tests"
   ],
   "cell_type": "markdown",
   "metadata": {}
  },
  {
   "cell_type": "code",
   "execution_count": 6,
   "metadata": {},
   "outputs": [],
   "source": [
    "s = Solution() \n",
    "assert s.isIsomorphic('egg', 'add')\n",
    "assert not s.isIsomorphic('foo', 'bar')\n",
    "assert s.isIsomorphic('paper', 'title')"
   ]
  },
  {
   "cell_type": "code",
   "execution_count": null,
   "metadata": {},
   "outputs": [],
   "source": []
  }
 ]
}